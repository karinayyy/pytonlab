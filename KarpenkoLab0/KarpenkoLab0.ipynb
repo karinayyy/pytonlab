{
 "cells": [
  {
   "cell_type": "code",
   "execution_count": 5,
   "id": "13d59585-e496-44b4-a141-a0b7f7498487",
   "metadata": {},
   "outputs": [],
   "source": [
    "def is_prime(n):\n",
    "    if n <= 1:\n",
    "        return False\n",
    "    if n <= 3:\n",
    "        return True\n",
    "    if n % 2 == 0 or n % 3 == 0:\n",
    "        return False\n",
    "\n",
    "    i = 5\n",
    "    while i * i <= n:\n",
    "        if n % i == 0 or n % (i + 2) == 0:\n",
    "            return False\n",
    "        i += 6\n",
    "\n",
    "    return True\n",
    "\n",
    "def task4():\n",
    "    input_str = input(\"Введіть два цілих числа (a та b) через пробіл: \")\n",
    "    input_values = input_str.split()\n",
    "\n",
    "    if len(input_values) != 2:\n",
    "        print(\"Помилка: Будь ласка, введіть рівно два числа через пробіл.\")\n",
    "        return\n",
    "\n",
    "    try:\n",
    "        a, b = map(int, input_values)\n",
    "        prime_numbers = []\n",
    "\n",
    "        for num in range(a, b + 1):\n",
    "            if is_prime(num):\n",
    "                prime_numbers.append(num)\n",
    "\n",
    "        print(prime_numbers)\n",
    "    except ValueError:\n",
    "        print(\"Помилка: Введені значення не є цілими числами.\")\n",
    "\n"
   ]
  },
  {
   "cell_type": "code",
   "execution_count": 6,
   "id": "6f1f7b1f-e022-4ccd-b912-ce10f6594e0e",
   "metadata": {},
   "outputs": [
    {
     "name": "stdin",
     "output_type": "stream",
     "text": [
      "Введіть два цілих числа (a та b) через пробіл:  2 19\n"
     ]
    },
    {
     "name": "stdout",
     "output_type": "stream",
     "text": [
      "[2, 3, 5, 7, 11, 13, 17, 19]\n"
     ]
    }
   ],
   "source": [
    "task4()"
   ]
  },
  {
   "cell_type": "code",
   "execution_count": 7,
   "id": "9ef4d0c7-e603-4fea-ae3c-1ff7e09b05a5",
   "metadata": {},
   "outputs": [
    {
     "name": "stdin",
     "output_type": "stream",
     "text": [
      "Введіть два цілих числа (a та b) через пробіл:  2\n"
     ]
    },
    {
     "name": "stdout",
     "output_type": "stream",
     "text": [
      "Помилка: Будь ласка, введіть рівно два числа через пробіл.\n"
     ]
    }
   ],
   "source": [
    "task4()"
   ]
  },
  {
   "cell_type": "code",
   "execution_count": 9,
   "id": "fc36b198-b3e3-4812-bcaf-e3f0c99e9c1e",
   "metadata": {},
   "outputs": [
    {
     "name": "stdin",
     "output_type": "stream",
     "text": [
      "Введіть два цілих числа (a та b) через пробіл:  qwe 4\n"
     ]
    },
    {
     "name": "stdout",
     "output_type": "stream",
     "text": [
      "Помилка: Введені значення не є цілими числами.\n"
     ]
    }
   ],
   "source": [
    "task4()"
   ]
  },
  {
   "cell_type": "markdown",
   "id": "b8e619ca-0c9a-4eef-994c-ed42b37e7f0a",
   "metadata": {},
   "source": [
    "# Країна Йорданія\n",
    "\n",
    "<a href=\"https://uk.wikipedia.org/wiki/%D0%99%D0%BE%D1%80%D0%B4%D0%B0%D0%BD%D1%96%D1%8F\">Йорданія</a> - країна в Південно-Західній Азії.\n",
    "\n",
    "## Основні факти\n",
    "\n",
    "- **Площа:** <span style=\"font-weight: bold; border: 1px solid #000;\">89,342</span> кв. км\n",
    "- **Населення:** <i>10,203,134</i> осіб\n",
    "- **Державний устрій:** <span style=\"color: rgb(148,0,211);\">Парламентська монархія</span>\n",
    "\n",
    "## Видатні особистості\n",
    "\n",
    "- **Король Абдулла II бін аль-Хуссейн** - *поточний король Йорданії*\n",
    "- **Квін Ранія аль-Абдулла** - королева Йорданії, дружина короля Абдулли II\n",
    "\n",
    "## Пам'ятки культури\n",
    "\n",
    "| Назва                     | Опис                                          |\n",
    "| ------------------------  | --------------------------------------------- |\n",
    "| Петра                     | Давнє місто, вирізане в скелях                |\n",
    "| Амманський Римський театр | Археологічна пам'ятка римської доби           |\n",
    "\n",
    "## Природа\n",
    "\n",
    "- Гірські ландшафти\n",
    "- Південне море - акваторія Червоного моря\n",
    "\n",
    "![Петра](https://upload.wikimedia.org/wikipedia/commons/thumb/2/2f/Treasury_petra_crop.jpeg/800px-Treasury_petra_crop.jpeg)\n",
    "\n",
    "![](./KarpenkoFlag.svg)\n"
   ]
  },
  {
   "cell_type": "code",
   "execution_count": 3,
   "id": "f92d93c2-bd57-4f79-bf45-9f8a045fc059",
   "metadata": {},
   "outputs": [
    {
     "data": {
      "text/html": [
       "<svg xmlns=\"http://www.w3.org/2000/svg\" width=\"1200\" height=\"600\" viewBox=\"0 0 10080 5040\">\n",
       "  <title>Flag of Jordan</title>\n",
       "  <path fill=\"#fff\" d=\"m0 0h10080v5040H0z\"/>\n",
       "  <path d=\"m0 0h10080v1680H0z\"/>\n",
       "  <path fill=\"#007a3d\" d=\"m0 3360h10080v1680H0z\"/>\n",
       "  <path fill=\"#ce1126\" d=\"m5040 2520L0 5040V0m1557 2160-78 198-203-62 106 184-176 120 211 32-16 212 156-144 157 144-16-212 210-32-175-120 106-184-203 62z\"/>\n",
       "</svg>\n"
      ],
      "text/plain": [
       "<IPython.core.display.HTML object>"
      ]
     },
     "metadata": {},
     "output_type": "display_data"
    }
   ],
   "source": [
    "%%HTML\n",
    "<svg xmlns=\"http://www.w3.org/2000/svg\" width=\"1200\" height=\"600\" viewBox=\"0 0 10080 5040\">\n",
    "  <title>Flag of Jordan</title>\n",
    "  <path fill=\"#fff\" d=\"m0 0h10080v5040H0z\"/>\n",
    "  <path d=\"m0 0h10080v1680H0z\"/>\n",
    "  <path fill=\"#007a3d\" d=\"m0 3360h10080v1680H0z\"/>\n",
    "  <path fill=\"#ce1126\" d=\"m5040 2520L0 5040V0m1557 2160-78 198-203-62 106 184-176 120 211 32-16 212 156-144 157 144-16-212 210-32-175-120 106-184-203 62z\"/>\n",
    "</svg>"
   ]
  }
 ],
 "metadata": {
  "kernelspec": {
   "display_name": "Python 3 (ipykernel)",
   "language": "python",
   "name": "python3"
  },
  "language_info": {
   "codemirror_mode": {
    "name": "ipython",
    "version": 3
   },
   "file_extension": ".py",
   "mimetype": "text/x-python",
   "name": "python",
   "nbconvert_exporter": "python",
   "pygments_lexer": "ipython3",
   "version": "3.12.0"
  }
 },
 "nbformat": 4,
 "nbformat_minor": 5
}
